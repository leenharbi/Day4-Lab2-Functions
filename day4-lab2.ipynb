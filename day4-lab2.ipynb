{
 "cells": [
  {
   "cell_type": "markdown",
   "id": "b82b2567",
   "metadata": {},
   "source": [
    "# Leen alharbi\n",
    "---------------\n",
    "Day4-lab2"
   ]
  },
  {
   "cell_type": "code",
   "execution_count": 20,
   "id": "2972249d",
   "metadata": {},
   "outputs": [
    {
     "name": "stdout",
     "output_type": "stream",
     "text": [
      "1 2 3 4 5 6 7 8 9 10 \n",
      "1 2 3 4 5 6 7 8 9 \n",
      "1 2 3 4 5 6 7 8 \n",
      "1 2 3 4 5 6 7 \n",
      "1 2 3 4 5 6 \n",
      "1 2 3 4 5 \n",
      "1 2 3 4 \n",
      "1 2 3 \n",
      "1 2 \n",
      "1 \n"
     ]
    }
   ],
   "source": [
    "def getAnswer(answerNumber):\n",
    "    rows = 10\n",
    "for i in range(rows, 0, -1):\n",
    "    for j in range(1, i + 1):\n",
    "        print(j, end=' ')\n",
    "    print('')"
   ]
  }
 ],
 "metadata": {
  "kernelspec": {
   "display_name": "Python 3 (ipykernel)",
   "language": "python",
   "name": "python3"
  },
  "language_info": {
   "codemirror_mode": {
    "name": "ipython",
    "version": 3
   },
   "file_extension": ".py",
   "mimetype": "text/x-python",
   "name": "python",
   "nbconvert_exporter": "python",
   "pygments_lexer": "ipython3",
   "version": "3.9.7"
  }
 },
 "nbformat": 4,
 "nbformat_minor": 5
}
